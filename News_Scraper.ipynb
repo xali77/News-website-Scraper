{
  "nbformat": 4,
  "nbformat_minor": 0,
  "metadata": {
    "colab": {
      "name": "News Scraper.ipynb",
      "provenance": [],
      "collapsed_sections": []
    },
    "kernelspec": {
      "name": "python3",
      "display_name": "Python 3"
    }
  },
  "cells": [
    {
      "cell_type": "markdown",
      "metadata": {
        "id": "2GT6eRIrvppU"
      },
      "source": [
        "# Main Extractor\n"
      ]
    },
    {
      "cell_type": "code",
      "metadata": {
        "id": "5sXha-nBkQMA"
      },
      "source": [
        "#Run Libraries\n",
        "!pip install nltk\n",
        "!pip install newspaper3k\n",
        "from newspaper import Article\n",
        "import newspaper\n",
        "from textblob import TextBlob\n",
        "import nltk\n",
        "nltk.download('vader_lexicon')\n",
        "nltk.download('punkt')\n",
        "from textblob import TextBlob\n",
        "from nltk.sentiment import SentimentIntensityAnalyzer\n",
        "sia = SentimentIntensityAnalyzer()"
      ],
      "execution_count": null,
      "outputs": []
    },
    {
      "cell_type": "code",
      "metadata": {
        "colab": {
          "base_uri": "https://localhost:8080/"
        },
        "id": "-yc8ym2vy9Mu",
        "outputId": "f502f7e3-261d-45d7-c4ba-37cc8cff083e"
      },
      "source": [
        "#intializer\n",
        "x=int(input(\"enter the number of websites:- \"))\n",
        "web=[]\n",
        "while x > 0:\n",
        "  k=input(\"enter website name:- \")\n",
        "  web.append(k)\n",
        "  x=x-1"
      ],
      "execution_count": 58,
      "outputs": [
        {
          "output_type": "stream",
          "text": [
            "enter the number of websites:- 2\n",
            "enter website name:- https://www.thequint.com/\n",
            "enter website name:- https://thewire.in/\n"
          ],
          "name": "stdout"
        }
      ]
    },
    {
      "cell_type": "code",
      "metadata": {
        "id": "pcrHKRwsmmXI",
        "colab": {
          "base_uri": "https://localhost:8080/"
        },
        "outputId": "f1cc2755-2379-4fba-9f8f-9c1231ee0d2f"
      },
      "source": [
        "#Scraper\n",
        "link=[]\n",
        "title=[]\n",
        "text=[]\n",
        "author=[]\n",
        "pdate=[]\n",
        "keywords=[]\n",
        "tags=[]\n",
        "compound=[]\n",
        "neg=[]\n",
        "neu=[]\n",
        "pos=[]\n",
        "polarity=[]\n",
        "subjectivity=[]\n",
        "for x in web:\n",
        "  cnn_pape = newspaper.build(x,language='en',memorize='false')\n",
        "  print(\"links from\",x,\"=\",len(cnn_pape.articles))\n",
        "  for article in cnn_pape.articles:\n",
        "      try:\n",
        "        link.append(article.url)\n",
        "        article.download()\n",
        "        article.parse()\n",
        "        article.nlp()\n",
        "        v=sia.polarity_scores(article.text)\n",
        "        compound.append(v[\"compound\"])\n",
        "        neg.append(v[\"neg\"])\n",
        "        neu.append(v[\"neu\"])\n",
        "        pos.append(v[\"pos\"])\n",
        "        testimonial = TextBlob(article.text)\n",
        "        polarity.append(testimonial.sentiment.polarity)\n",
        "        subjectivity.append(testimonial.sentiment.subjectivity)\n",
        "        title.append(article.title)\n",
        "        text.append(article.text)\n",
        "        author.append(article.authors)\n",
        "        pdate.append(article.publish_date)\n",
        "        keywords.append(article.keywords)\n",
        "        tags.append(article.tags)\n",
        "      except:\n",
        "        print('Link Failed - ', article.url)\n",
        "        continue\n",
        "print(\"Total Links - \" , len(link))\n",
        "print(\"**Finished Parsing**\")"
      ],
      "execution_count": 66,
      "outputs": [
        {
          "output_type": "stream",
          "text": [
            "links on https://www.thequint.com/ = 0\n",
            "links on https://thewire.in/ = 0\n",
            "Total Links -  0\n",
            "Finished Parsing\n"
          ],
          "name": "stdout"
        }
      ]
    },
    {
      "cell_type": "code",
      "metadata": {
        "colab": {
          "base_uri": "https://localhost:8080/",
          "height": 857
        },
        "id": "KCtPpyQv32S9",
        "outputId": "5e3f5fd7-eebd-4127-ceec-ed154260300f"
      },
      "source": [
        "#dataframe builder\n",
        "import pandas as pd\n",
        "tt=list(zip(link,pdate,title,author,text,keywords,tags,compound,neg,neu,pos,polarity,subjectivity))\n",
        "d1=pd.DataFrame(tt,columns=['link','pdate','title','author','text','keywords','tags','compound','neg','neu','pos','polarity','subjectivity'])\n",
        "d1"
      ],
      "execution_count": 62,
      "outputs": [
        {
          "output_type": "execute_result",
          "data": {
            "text/html": [
              "<div>\n",
              "<style scoped>\n",
              "    .dataframe tbody tr th:only-of-type {\n",
              "        vertical-align: middle;\n",
              "    }\n",
              "\n",
              "    .dataframe tbody tr th {\n",
              "        vertical-align: top;\n",
              "    }\n",
              "\n",
              "    .dataframe thead th {\n",
              "        text-align: right;\n",
              "    }\n",
              "</style>\n",
              "<table border=\"1\" class=\"dataframe\">\n",
              "  <thead>\n",
              "    <tr style=\"text-align: right;\">\n",
              "      <th></th>\n",
              "      <th>link</th>\n",
              "      <th>pdate</th>\n",
              "      <th>title</th>\n",
              "      <th>author</th>\n",
              "      <th>text</th>\n",
              "      <th>keywords</th>\n",
              "      <th>tags</th>\n",
              "      <th>compound</th>\n",
              "      <th>neg</th>\n",
              "      <th>neu</th>\n",
              "      <th>pos</th>\n",
              "      <th>polarity</th>\n",
              "      <th>subjectivity</th>\n",
              "    </tr>\n",
              "  </thead>\n",
              "  <tbody>\n",
              "    <tr>\n",
              "      <th>0</th>\n",
              "      <td>https://www.thequint.com/voices/opinion/bengal...</td>\n",
              "      <td>2021-03-22 14:56:16+05:30</td>\n",
              "      <td>Bengal 2021: Will ‘Underdog’ Mamata’s ‘Ploy’ B...</td>\n",
              "      <td>[Arati R Jerath]</td>\n",
              "      <td>West Bengal Chief Minister and Trinamool Congr...</td>\n",
              "      <td>[ploy, bengal, streets, practitioner, trinamoo...</td>\n",
              "      <td>{IRCTC Indian Railways}</td>\n",
              "      <td>-0.7269</td>\n",
              "      <td>0.165</td>\n",
              "      <td>0.733</td>\n",
              "      <td>0.103</td>\n",
              "      <td>-0.200000</td>\n",
              "      <td>0.525000</td>\n",
              "    </tr>\n",
              "    <tr>\n",
              "      <th>1</th>\n",
              "      <td>https://www.thequint.com/news/india/gallery-co...</td>\n",
              "      <td>2021-03-22 21:51:22+05:30</td>\n",
              "      <td>Over 100 Injured As Gallery Collapses at Telan...</td>\n",
              "      <td>[The Quint]</td>\n",
              "      <td>At least 100 people were injured after a galle...</td>\n",
              "      <td>[tournamentthe, took, telangana, match, report...</td>\n",
              "      <td>{IRCTC Indian Railways}</td>\n",
              "      <td>-0.9432</td>\n",
              "      <td>0.176</td>\n",
              "      <td>0.800</td>\n",
              "      <td>0.024</td>\n",
              "      <td>0.069048</td>\n",
              "      <td>0.354762</td>\n",
              "    </tr>\n",
              "    <tr>\n",
              "      <th>2</th>\n",
              "      <td>https://www.thequint.com/news/india/explosive-...</td>\n",
              "      <td>2021-03-22 21:03:47+05:30</td>\n",
              "      <td>Explosive Letter, Opposition Pressure: How Mah...</td>\n",
              "      <td>[Eshwar Ranjana]</td>\n",
              "      <td>Not just the Bharatiya Janata Party (BJP), but...</td>\n",
              "      <td>[explosive, shiv, mva, hours, singh, letter, c...</td>\n",
              "      <td>{IRCTC Indian Railways}</td>\n",
              "      <td>-0.9118</td>\n",
              "      <td>0.148</td>\n",
              "      <td>0.782</td>\n",
              "      <td>0.070</td>\n",
              "      <td>-0.030000</td>\n",
              "      <td>0.020000</td>\n",
              "    </tr>\n",
              "    <tr>\n",
              "      <th>3</th>\n",
              "      <td>https://www.thequint.com/kerala-elections/seni...</td>\n",
              "      <td>2021-03-22 20:52:22+05:30</td>\n",
              "      <td>Senior Congress Leader KC Rosakutty Quits Part...</td>\n",
              "      <td>[The News Minute]</td>\n",
              "      <td>In yet another blow to the Congress in Kerala,...</td>\n",
              "      <td>[kpcc, kerala, rosakutty, resigned, quits, par...</td>\n",
              "      <td>{IRCTC Indian Railways}</td>\n",
              "      <td>0.2500</td>\n",
              "      <td>0.072</td>\n",
              "      <td>0.857</td>\n",
              "      <td>0.072</td>\n",
              "      <td>0.133333</td>\n",
              "      <td>0.166667</td>\n",
              "    </tr>\n",
              "    <tr>\n",
              "      <th>4</th>\n",
              "      <td>https://www.thequint.com/news/world/govt-confe...</td>\n",
              "      <td>2021-03-22 18:51:03+05:30</td>\n",
              "      <td>Government Confers 2020 Gandhi Peace Prize to ...</td>\n",
              "      <td>[The Quint]</td>\n",
              "      <td>The Government of India on Monday, 22 March, n...</td>\n",
              "      <td>[peace, bangladeshs, confers, rahman, sheikh, ...</td>\n",
              "      <td>{IRCTC Indian Railways}</td>\n",
              "      <td>0.9926</td>\n",
              "      <td>0.000</td>\n",
              "      <td>0.737</td>\n",
              "      <td>0.263</td>\n",
              "      <td>0.080833</td>\n",
              "      <td>0.441667</td>\n",
              "    </tr>\n",
              "    <tr>\n",
              "      <th>...</th>\n",
              "      <td>...</td>\n",
              "      <td>...</td>\n",
              "      <td>...</td>\n",
              "      <td>...</td>\n",
              "      <td>...</td>\n",
              "      <td>...</td>\n",
              "      <td>...</td>\n",
              "      <td>...</td>\n",
              "      <td>...</td>\n",
              "      <td>...</td>\n",
              "      <td>...</td>\n",
              "      <td>...</td>\n",
              "      <td>...</td>\n",
              "    </tr>\n",
              "    <tr>\n",
              "      <th>341</th>\n",
              "      <td>https://marathi.thewire.in/narendra-modi-west-...</td>\n",
              "      <td>2021-03-20 18:14:12+00:00</td>\n",
              "      <td>हाडं बोलतात, सू ब्लॅकना ते ऐकू येतं</td>\n",
              "      <td>[]</td>\n",
              "      <td>काही तर खणत असताना समजा तुम्हाला एकादं हाड मिळ...</td>\n",
              "      <td>[तयच, बलकन, हत, आह, तय, ऐक, त, एक, हड, बलक, बल...</td>\n",
              "      <td>{विज्ञान 102, साहित्य 127, featured 2526, Sue ...</td>\n",
              "      <td>-0.5894</td>\n",
              "      <td>0.006</td>\n",
              "      <td>0.994</td>\n",
              "      <td>0.000</td>\n",
              "      <td>-0.260000</td>\n",
              "      <td>0.500000</td>\n",
              "    </tr>\n",
              "    <tr>\n",
              "      <th>342</th>\n",
              "      <td>https://marathi.thewire.in/written-in-bone-hid...</td>\n",
              "      <td>2021-03-20 17:39:31+00:00</td>\n",
              "      <td>महासाथ कायद्याचा शतकी इतिहास</td>\n",
              "      <td>[]</td>\n",
              "      <td>Click to share on Twitter (Opens in new window)</td>\n",
              "      <td>[कयदयच, click, शतक, share, twitter, opens, इतह...</td>\n",
              "      <td>{कायदा 147, featured 2526}</td>\n",
              "      <td>0.2960</td>\n",
              "      <td>0.000</td>\n",
              "      <td>0.784</td>\n",
              "      <td>0.216</td>\n",
              "      <td>0.136364</td>\n",
              "      <td>0.454545</td>\n",
              "    </tr>\n",
              "    <tr>\n",
              "      <th>343</th>\n",
              "      <td>https://marathi.thewire.in/written-in-bone-hid...</td>\n",
              "      <td>2021-03-20 17:39:31+00:00</td>\n",
              "      <td>महासाथ कायद्याचा शतकी इतिहास</td>\n",
              "      <td>[]</td>\n",
              "      <td>Click to share on Twitter (Opens in new window)</td>\n",
              "      <td>[कयदयच, click, शतक, share, twitter, opens, इतह...</td>\n",
              "      <td>{कायदा 147, featured 2526}</td>\n",
              "      <td>0.2960</td>\n",
              "      <td>0.000</td>\n",
              "      <td>0.784</td>\n",
              "      <td>0.216</td>\n",
              "      <td>0.136364</td>\n",
              "      <td>0.454545</td>\n",
              "    </tr>\n",
              "    <tr>\n",
              "      <th>344</th>\n",
              "      <td>https://marathi.thewire.in/written-in-bone-hid...</td>\n",
              "      <td>2021-03-20 17:39:31+00:00</td>\n",
              "      <td>महासाथ कायद्याचा शतकी इतिहास</td>\n",
              "      <td>[]</td>\n",
              "      <td>Click to share on Twitter (Opens in new window)</td>\n",
              "      <td>[कयदयच, click, शतक, share, twitter, opens, इतह...</td>\n",
              "      <td>{कायदा 147, featured 2526}</td>\n",
              "      <td>0.2960</td>\n",
              "      <td>0.000</td>\n",
              "      <td>0.784</td>\n",
              "      <td>0.216</td>\n",
              "      <td>0.136364</td>\n",
              "      <td>0.454545</td>\n",
              "    </tr>\n",
              "    <tr>\n",
              "      <th>345</th>\n",
              "      <td>https://marathi.thewire.in/epidemic-act-1897-a...</td>\n",
              "      <td>None</td>\n",
              "      <td>featured Archives</td>\n",
              "      <td>[]</td>\n",
              "      <td></td>\n",
              "      <td>[archives, featured]</td>\n",
              "      <td>{economy, JNU, 2, NCP, Mahatma Gandhi, Lockdow...</td>\n",
              "      <td>0.0000</td>\n",
              "      <td>0.000</td>\n",
              "      <td>0.000</td>\n",
              "      <td>0.000</td>\n",
              "      <td>0.000000</td>\n",
              "      <td>0.000000</td>\n",
              "    </tr>\n",
              "  </tbody>\n",
              "</table>\n",
              "<p>346 rows × 13 columns</p>\n",
              "</div>"
            ],
            "text/plain": [
              "                                                  link  ... subjectivity\n",
              "0    https://www.thequint.com/voices/opinion/bengal...  ...     0.525000\n",
              "1    https://www.thequint.com/news/india/gallery-co...  ...     0.354762\n",
              "2    https://www.thequint.com/news/india/explosive-...  ...     0.020000\n",
              "3    https://www.thequint.com/kerala-elections/seni...  ...     0.166667\n",
              "4    https://www.thequint.com/news/world/govt-confe...  ...     0.441667\n",
              "..                                                 ...  ...          ...\n",
              "341  https://marathi.thewire.in/narendra-modi-west-...  ...     0.500000\n",
              "342  https://marathi.thewire.in/written-in-bone-hid...  ...     0.454545\n",
              "343  https://marathi.thewire.in/written-in-bone-hid...  ...     0.454545\n",
              "344  https://marathi.thewire.in/written-in-bone-hid...  ...     0.454545\n",
              "345  https://marathi.thewire.in/epidemic-act-1897-a...  ...     0.000000\n",
              "\n",
              "[346 rows x 13 columns]"
            ]
          },
          "metadata": {
            "tags": []
          },
          "execution_count": 62
        }
      ]
    },
    {
      "cell_type": "code",
      "metadata": {
        "colab": {
          "base_uri": "https://localhost:8080/",
          "height": 17
        },
        "id": "U3EFI_or7u1M",
        "outputId": "65d602f5-98ae-45f4-b42f-b4c752640ad8"
      },
      "source": [
        "#download here\n",
        "from google.colab import files\n",
        "d1.to_csv('braindedright.csv')\n",
        "files.download('braindedright.csv')"
      ],
      "execution_count": 48,
      "outputs": [
        {
          "output_type": "display_data",
          "data": {
            "application/javascript": [
              "\n",
              "    async function download(id, filename, size) {\n",
              "      if (!google.colab.kernel.accessAllowed) {\n",
              "        return;\n",
              "      }\n",
              "      const div = document.createElement('div');\n",
              "      const label = document.createElement('label');\n",
              "      label.textContent = `Downloading \"${filename}\": `;\n",
              "      div.appendChild(label);\n",
              "      const progress = document.createElement('progress');\n",
              "      progress.max = size;\n",
              "      div.appendChild(progress);\n",
              "      document.body.appendChild(div);\n",
              "\n",
              "      const buffers = [];\n",
              "      let downloaded = 0;\n",
              "\n",
              "      const channel = await google.colab.kernel.comms.open(id);\n",
              "      // Send a message to notify the kernel that we're ready.\n",
              "      channel.send({})\n",
              "\n",
              "      for await (const message of channel.messages) {\n",
              "        // Send a message to notify the kernel that we're ready.\n",
              "        channel.send({})\n",
              "        if (message.buffers) {\n",
              "          for (const buffer of message.buffers) {\n",
              "            buffers.push(buffer);\n",
              "            downloaded += buffer.byteLength;\n",
              "            progress.value = downloaded;\n",
              "          }\n",
              "        }\n",
              "      }\n",
              "      const blob = new Blob(buffers, {type: 'application/binary'});\n",
              "      const a = document.createElement('a');\n",
              "      a.href = window.URL.createObjectURL(blob);\n",
              "      a.download = filename;\n",
              "      div.appendChild(a);\n",
              "      a.click();\n",
              "      div.remove();\n",
              "    }\n",
              "  "
            ],
            "text/plain": [
              "<IPython.core.display.Javascript object>"
            ]
          },
          "metadata": {
            "tags": []
          }
        },
        {
          "output_type": "display_data",
          "data": {
            "application/javascript": [
              "download(\"download_06b79b6b-f033-486b-8807-a6629a5de806\", \"braindedright.csv\", 6492311)"
            ],
            "text/plain": [
              "<IPython.core.display.Javascript object>"
            ]
          },
          "metadata": {
            "tags": []
          }
        }
      ]
    },
    {
      "cell_type": "markdown",
      "metadata": {
        "id": "WNW00RGVJCPP"
      },
      "source": [
        "# Testing"
      ]
    },
    {
      "cell_type": "code",
      "metadata": {
        "id": "I4RDW0K9kYSj"
      },
      "source": [
        "import nltk\n",
        "from newspaper import Article\n",
        "import newspaper"
      ],
      "execution_count": 5,
      "outputs": []
    },
    {
      "cell_type": "code",
      "metadata": {
        "id": "wwCJViexk9pq"
      },
      "source": [
        "url = 'https://www.opindia.com/2021/03/muslims-backed-by-aimim-paving-a-way-for-hindu-exodus-from-bhainsa/'\n",
        "article=Article(url)"
      ],
      "execution_count": 63,
      "outputs": []
    },
    {
      "cell_type": "code",
      "metadata": {
        "colab": {
          "base_uri": "https://localhost:8080/"
        },
        "id": "w80dwwYtm-j8",
        "outputId": "65ef0cce-b713-48ba-ea69-46f8b2416250"
      },
      "source": [
        "#nlp\n",
        "article.download()\n",
        "article.parse()\n",
        "nltk.download('punkt')\n",
        "article.nlp()"
      ],
      "execution_count": 64,
      "outputs": [
        {
          "output_type": "stream",
          "text": [
            "[nltk_data] Downloading package punkt to /root/nltk_data...\n",
            "[nltk_data]   Package punkt is already up-to-date!\n"
          ],
          "name": "stdout"
        }
      ]
    },
    {
      "cell_type": "code",
      "metadata": {
        "colab": {
          "base_uri": "https://localhost:8080/"
        },
        "id": "5IPO6m6UnjrQ",
        "outputId": "2dc201ca-ae67-4c97-d317-02ed8beb06b4"
      },
      "source": [
        "print(article.authors)\n",
        "print(article.publish_date)\n",
        "print(article.top_image)\n",
        "print(article.text)\n",
        "print(article.summary)\n",
        "print(article.tags)\n",
        "print(article.keywords)\n",
        "print(article.additional_data)"
      ],
      "execution_count": 39,
      "outputs": [
        {
          "output_type": "stream",
          "text": [
            "['Dan Mclaughlin', 'Madeleine Kearns', 'David Harsanyi', 'Charles C. W. Cooke', 'Zachary Evans', 'Philip Klein', 'Kyle Smith']\n",
            "None\n",
            "https://www.nationalreview.com/wp-content/themes/national-review/static/images/social.jpg\n",
            "I'm really not sure what the point is in having a show called The Talk if it gets shut down the moment that its participants decide to do just that.\n",
            "I'm really not sure what the point is in having a show called The Talk if it gets shut down the moment that its participants decide to do just that.\n",
            "{'Conference Call Archive', 'Member Articles', 'NR PLUS'}\n",
            "['national', 'point', 'having', 'gets', 'moment', 'talk', 'sure', 'participants', 'im', 'really', 'review', 'shut']\n",
            "{}\n"
          ],
          "name": "stdout"
        }
      ]
    },
    {
      "cell_type": "code",
      "metadata": {
        "id": "sIsQEBrQLOqo"
      },
      "source": [
        "article.text"
      ],
      "execution_count": null,
      "outputs": []
    },
    {
      "cell_type": "code",
      "metadata": {
        "id": "hYzpvoOIF0E1"
      },
      "source": [
        "import nltk\n",
        "nltk.download('vader_lexicon')\n",
        "from nltk.sentiment import SentimentIntensityAnalyzer\n",
        "sia = SentimentIntensityAnalyzer()\n",
        "v=sia.polarity_scores(article.text)\n",
        "len(v)\n",
        "print(v)"
      ],
      "execution_count": null,
      "outputs": []
    },
    {
      "cell_type": "code",
      "metadata": {
        "colab": {
          "base_uri": "https://localhost:8080/"
        },
        "id": "91FwW8esVw4C",
        "outputId": "817e1148-a8d1-4008-b286-fd206a5212e7"
      },
      "source": [
        "from textblob import TextBlob\n",
        "testimonial = TextBlob(article.text)\n",
        "testimonial.sentiment.polarity\n",
        "testimonial.sentiment.subjectivity"
      ],
      "execution_count": 74,
      "outputs": [
        {
          "output_type": "execute_result",
          "data": {
            "text/plain": [
              "0.37549945265462503"
            ]
          },
          "metadata": {
            "tags": []
          },
          "execution_count": 74
        }
      ]
    },
    {
      "cell_type": "code",
      "metadata": {
        "id": "qZjcn-R3MYtt"
      },
      "source": [
        "compound=[]\n",
        "neg=[]\n",
        "neu=[]\n",
        "pos=[]\n",
        "compound.append(v[\"compound\"])\n",
        "neg.append(v[\"neg\"])\n",
        "neu.append(v[\"neu\"])\n",
        "pos.append(v[\"pos\"])"
      ],
      "execution_count": 48,
      "outputs": []
    },
    {
      "cell_type": "code",
      "metadata": {
        "colab": {
          "base_uri": "https://localhost:8080/"
        },
        "id": "uU7o5a0PNEBD",
        "outputId": "fad62ec5-9a6b-4b52-8d87-8e438e658ae0"
      },
      "source": [
        "compound\n"
      ],
      "execution_count": 49,
      "outputs": [
        {
          "output_type": "execute_result",
          "data": {
            "text/plain": [
              "[-0.9992]"
            ]
          },
          "metadata": {
            "tags": []
          },
          "execution_count": 49
        }
      ]
    }
  ]
}